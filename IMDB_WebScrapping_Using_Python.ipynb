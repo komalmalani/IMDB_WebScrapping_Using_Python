{
 "cells": [
  {
   "cell_type": "code",
   "execution_count": 163,
   "id": "ec1756ff",
   "metadata": {},
   "outputs": [],
   "source": [
    "from bs4 import BeautifulSoup  #Importing the Beautiful Soup Library\n",
    "import requests                #Importing the requests library\n",
    "import csv                     #Importing the csv module\n",
    "import pandas as pd            #Importing pandas library"
   ]
  },
  {
   "cell_type": "code",
   "execution_count": 162,
   "id": "29f0d4df",
   "metadata": {},
   "outputs": [
    {
     "name": "stdout",
     "output_type": "stream",
     "text": [
      "200\n"
     ]
    }
   ],
   "source": [
    "URL = 'https://www.imdb.com/chart/top'\n",
    "\n",
    "#headers = {'User-Agent': 'Mozilla/5.0 (Windows NT 10.0; Win64; x64) AppleWebKit/537.36 (KHTML, like Gecko) Chrome/110.0.0.0 Safari/537.36 Edg/110.0.1587.41'}\n",
    "\n",
    "response = requests.get(URL)\n",
    "print(response.status_code) # To verify if status_code=200\n",
    "\n",
    "soup = BeautifulSoup(response.text, 'lxml') # Creating a soup\n",
    "\n",
    "#Creating lists\n",
    "srank, sname, syear, srating, scast, sdirector = list(), list(), list(), list(), list(), list()\n",
    "\n",
    "column = soup.find_all(class_='titleColumn')\n",
    "rating = soup.find_all('strong')\n",
    "link= soup.find_all('a')\n",
    "\n",
    "\n",
    "for i in column:\n",
    "\tsrank.append(i.get_text().strip().split('\\n')[0].rstrip('.'))\n",
    "\tsname.append(i.get_text().strip().split('\\n')[1].lstrip())   \n",
    "\tsyear.append(i.get_text().strip().split('\\n')[2].strip('()'))\n",
    "    \n",
    "for i in rating:\n",
    "    srating.append(i.get_text().strip())    \n",
    "    \n",
    "for i in link[47:255:2]:\n",
    "    sdirector.append(str(i.get('title')).split(',')[0].replace(\"(dir.)\",\"\"))\n",
    "    scast.append(str(i.get('title')).split(',')[1:3])\n",
    " \n",
    "    \n",
    "with open('imdb.csv','w',encoding=\"utf-8\", newline = '') as csvfile:\n",
    "\twriter = csv.writer(csvfile)\n",
    "\twriter.writerow(['Rank', 'Name', 'Year', 'Rating','Director','Cast'])\n",
    "\tfor a,b,c,d,e,f in zip(srank, sname, syear, srating, sdirector, scast):\n",
    "\t\twriter.writerow([a.strip(), b.strip(), c.strip(), d.strip(),e.strip(),str(f[0])+\",\"+str(f[1])])\n",
    "\n"
   ]
  },
  {
   "cell_type": "code",
   "execution_count": null,
   "id": "fc7dac70",
   "metadata": {},
   "outputs": [],
   "source": []
  },
  {
   "cell_type": "code",
   "execution_count": null,
   "id": "94ad9e11",
   "metadata": {},
   "outputs": [],
   "source": []
  },
  {
   "cell_type": "code",
   "execution_count": null,
   "id": "99dc2a7c",
   "metadata": {},
   "outputs": [],
   "source": []
  }
 ],
 "metadata": {
  "kernelspec": {
   "display_name": "Python 3 (ipykernel)",
   "language": "python",
   "name": "python3"
  },
  "language_info": {
   "codemirror_mode": {
    "name": "ipython",
    "version": 3
   },
   "file_extension": ".py",
   "mimetype": "text/x-python",
   "name": "python",
   "nbconvert_exporter": "python",
   "pygments_lexer": "ipython3",
   "version": "3.9.13"
  }
 },
 "nbformat": 4,
 "nbformat_minor": 5
}
